{
 "cells": [
  {
   "cell_type": "code",
   "execution_count": 1,
   "metadata": {},
   "outputs": [],
   "source": [
    "import numpy as np\n",
    "import pandas as pd"
   ]
  },
  {
   "cell_type": "code",
   "execution_count": 2,
   "metadata": {},
   "outputs": [],
   "source": [
    "# loading the training and testing data\n",
    "boston_train = np.genfromtxt('boston_x_y_train.csv', delimiter = ',')\n",
    "x_train = boston_train[:, 0:boston_train.shape[1]-1]\n",
    "y_train = boston_train[:, boston_train.shape[1]-1]\n",
    "x_test = np.genfromtxt(\"boston_x_test.csv\", delimiter = \",\")"
   ]
  },
  {
   "cell_type": "code",
   "execution_count": 3,
   "metadata": {},
   "outputs": [
    {
     "data": {
      "text/plain": [
       "array([[-0.40784991, -0.48772236, -1.2660231 , ...,  0.41057102,\n",
       "        -1.09799011, 37.9       ],\n",
       "       [-0.40737368, -0.48772236,  0.24705682, ...,  0.29116915,\n",
       "        -0.52047412, 21.4       ],\n",
       "       [ 0.1251786 , -0.48772236,  1.01599907, ..., -3.79579542,\n",
       "         0.89107588, 12.7       ],\n",
       "       ...,\n",
       "       [-0.40831101, -0.48772236,  0.24705682, ...,  0.33206621,\n",
       "        -0.33404299, 20.8       ],\n",
       "       [-0.41061997, -0.48772236, -1.15221381, ...,  0.203235  ,\n",
       "        -0.74475218, 22.6       ],\n",
       "       [ 0.34290895, -0.48772236,  1.01599907, ...,  0.38787479,\n",
       "        -1.35871335, 50.        ]])"
      ]
     },
     "execution_count": 3,
     "metadata": {},
     "output_type": "execute_result"
    }
   ],
   "source": [
    "boston_train"
   ]
  },
  {
   "cell_type": "code",
   "execution_count": 4,
   "metadata": {},
   "outputs": [
    {
     "name": "stdout",
     "output_type": "stream",
     "text": [
      "[[-0.40784991 -0.48772236 -1.2660231  ...  0.41057102 -1.09799011\n",
      "  37.9       ]\n",
      " [-0.40737368 -0.48772236  0.24705682 ...  0.29116915 -0.52047412\n",
      "  21.4       ]\n",
      " [ 0.1251786  -0.48772236  1.01599907 ... -3.79579542  0.89107588\n",
      "  12.7       ]\n",
      " ...\n",
      " [-0.40831101 -0.48772236  0.24705682 ...  0.33206621 -0.33404299\n",
      "  20.8       ]\n",
      " [-0.41061997 -0.48772236 -1.15221381 ...  0.203235   -0.74475218\n",
      "  22.6       ]\n",
      " [ 0.34290895 -0.48772236  1.01599907 ...  0.38787479 -1.35871335\n",
      "  50.        ]]\n"
     ]
    }
   ],
   "source": [
    "# printing the data\n",
    "print(boston_train)"
   ]
  },
  {
   "cell_type": "code",
   "execution_count": 5,
   "metadata": {},
   "outputs": [],
   "source": [
    "# adding dummy data to training data\n",
    "df = pd.DataFrame(x_train)\n",
    "N = x_train.shape[1]\n",
    "count =1\n",
    "for i in range(N):\n",
    "    for j in range(i, N):\n",
    "        df[count] = df[df.columns[i]] * df[df.columns[j]]\n",
    "        count += 1\n",
    "\n",
    "for i in range(N):\n",
    "    for j in range(i, N):\n",
    "        for k in range(j, N):\n",
    "            df[count] = df[df.columns[i]]*df[df.columns[j]]*df[df.columns[k]]\n",
    "            count += 1\n",
    "\n",
    "x_train = df.values\n",
    "\n",
    "# adding dummy data to testing data\n",
    "df = pd.DataFrame(x_test)\n",
    "N = x_test.shape[1]\n",
    "count =1\n",
    "for i in range(N):\n",
    "    for j in range(i, N):\n",
    "        df[count] = df[df.columns[i]] * df[df.columns[j]]\n",
    "        count += 1\n",
    "\n",
    "for i in range(N):\n",
    "    for j in range(i, N):\n",
    "        for k in range(j, N):\n",
    "            df[count] = df[df.columns[i]]*df[df.columns[j]]*df[df.columns[k]]\n",
    "            count += 1\n",
    "\n",
    "x_test = df.values"
   ]
  },
  {
   "cell_type": "code",
   "execution_count": null,
   "metadata": {},
   "outputs": [],
   "source": []
  }
 ],
 "metadata": {
  "kernelspec": {
   "display_name": "Python 3",
   "language": "python",
   "name": "python3"
  },
  "language_info": {
   "codemirror_mode": {
    "name": "ipython",
    "version": 3
   },
   "file_extension": ".py",
   "mimetype": "text/x-python",
   "name": "python",
   "nbconvert_exporter": "python",
   "pygments_lexer": "ipython3",
   "version": "3.5.6"
  }
 },
 "nbformat": 4,
 "nbformat_minor": 2
}
